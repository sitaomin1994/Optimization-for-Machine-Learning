{
 "cells": [
  {
   "cell_type": "code",
   "execution_count": 73,
   "metadata": {},
   "outputs": [
    {
     "name": "stdout",
     "output_type": "stream",
     "text": [
      "Extracting MNIST_data/train-images-idx3-ubyte.gz\n",
      "Extracting MNIST_data/train-labels-idx1-ubyte.gz\n",
      "Extracting MNIST_data/t10k-images-idx3-ubyte.gz\n",
      "Extracting MNIST_data/t10k-labels-idx1-ubyte.gz\n",
      "Datasets(train=<tensorflow.contrib.learn.python.learn.datasets.mnist.DataSet object at 0x000001B0E25F7E10>, validation=<tensorflow.contrib.learn.python.learn.datasets.mnist.DataSet object at 0x000001B0D1D89E10>, test=<tensorflow.contrib.learn.python.learn.datasets.mnist.DataSet object at 0x000001B0D1D89E80>)\n"
     ]
    }
   ],
   "source": [
    "import tensorflow as tf\n",
    "import numpy as np\n",
    "from tensorflow.examples.tutorials.mnist import input_data\n",
    "mnist = input_data.read_data_sets('MNIST_data/', one_hot=True)\n",
    "print(mnist)\n",
    "\n",
    "def weight_variable(shape):\n",
    "    initial = tf.truncated_normal(shape, stddev=0.1,seed = 27)\n",
    "    return tf.Variable(initial)\n",
    "\n",
    "def bias_variable(shape):\n",
    "    initial = tf.constant(0.1, shape=shape)\n",
    "    return tf.Variable(initial)                      \n",
    "#graph structure\n",
    "def train(learning_rate,beta1,beta2,beta3,index):\n",
    "    sess = tf.InteractiveSession()\n",
    "    x = tf.placeholder(\"float\", [None, 784])\n",
    "    y_ = tf.placeholder(\"float\", [None, 10])\n",
    "\n",
    "    weights_1 =  weight_variable([784,10])\n",
    "    b1 = bias_variable([10])\n",
    "    weights_2 =  weight_variable([10,10])\n",
    "    b2 = bias_variable([10])\n",
    "\n",
    "    x2 = tf.nn.relu(tf.matmul(x,weights_1)+b1)\n",
    "    logits = tf.matmul(x2,weights_2)+b2\n",
    "    y = tf.nn.softmax(logits)\n",
    "\n",
    "    #loss function\n",
    "    #cross_entropy = tf.reduce_mean(-tf.reduce_sum(y_ * tf.log(y), reduction_indices=[1]))  \n",
    "    cross_entropy = tf.reduce_mean(tf.nn.softmax_cross_entropy_with_logits(labels=y_,logits=logits))\n",
    "    #regularizaiton\n",
    "    regularizer1 = tf.nn.l2_loss(weights_1) \n",
    "    regularizer2 = tf.nn.l2_loss(weights_2)\n",
    "    regularizer3 = tf.nn.l2_loss(b1)+tf.nn.l2_loss(b2)\n",
    "    #total loss\n",
    "    loss = tf.reduce_mean(cross_entropy+beta1*regularizer1+beta2*regularizer2+beta3*regularizer3)\n",
    "    #optimizer\n",
    "    train_step = tf.train.AdagradOptimizer(learning_rate).minimize(loss)\n",
    "   # with tf.Session() as sess:\n",
    "        #Run Computation & Iterate\n",
    "    sess.run(tf.initialize_all_variables())\n",
    "        #print('Initialized')\n",
    "    for i in range(0,430*4):\n",
    "        batch = mnist.train.next_batch(128)\n",
    "        train_step.run(feed_dict={x: batch[0], y_: batch[1]})\n",
    "        if (i)%40 == 0:\n",
    "            correct_prediction = tf.equal(tf.argmax(y,1), tf.argmax(y_,1))\n",
    "            accuracy = tf.reduce_mean(tf.cast(correct_prediction, \"float\"))\n",
    "            accu = accuracy.eval(feed_dict={x: mnist.validation.images, y_: mnist.validation.labels})\n",
    "            result_data1[index,int((i)/40)] = accu\n",
    "        if (i+1)%500 == 0:\n",
    "            print(\"%d lr:%f acc:%f\"%(i+1,learning_rate,accu))\n",
    "    sess.close()\n",
    "    del sess"
   ]
  },
  {
   "cell_type": "code",
   "execution_count": 54,
   "metadata": {
    "scrolled": false
   },
   "outputs": [
    {
     "name": "stdout",
     "output_type": "stream",
     "text": [
      "500 lr:0.001152 acc:0.234600\n",
      "1000 lr:0.001152 acc:0.341400\n",
      "1500 lr:0.001152 acc:0.426200\n",
      "500 lr:0.002091 acc:0.343800\n",
      "1000 lr:0.002091 acc:0.489200\n",
      "1500 lr:0.002091 acc:0.617400\n",
      "500 lr:0.002186 acc:0.350200\n",
      "1000 lr:0.002186 acc:0.515200\n",
      "1500 lr:0.002186 acc:0.637200\n",
      "500 lr:0.002452 acc:0.375800\n",
      "1000 lr:0.002452 acc:0.551600\n",
      "1500 lr:0.002452 acc:0.669000\n",
      "500 lr:0.002489 acc:0.378000\n",
      "1000 lr:0.002489 acc:0.562800\n",
      "1500 lr:0.002489 acc:0.677600\n",
      "500 lr:0.002667 acc:0.396200\n",
      "1000 lr:0.002667 acc:0.585200\n",
      "1500 lr:0.002667 acc:0.691600\n",
      "500 lr:0.003600 acc:0.482200\n",
      "1000 lr:0.003600 acc:0.683800\n",
      "1500 lr:0.003600 acc:0.765800\n",
      "500 lr:0.004158 acc:0.526800\n",
      "1000 lr:0.004158 acc:0.720400\n",
      "1500 lr:0.004158 acc:0.792800\n",
      "500 lr:0.004468 acc:0.558000\n",
      "1000 lr:0.004468 acc:0.734000\n",
      "1500 lr:0.004468 acc:0.802200\n",
      "500 lr:0.005652 acc:0.658400\n",
      "1000 lr:0.005652 acc:0.787800\n",
      "1500 lr:0.005652 acc:0.833000\n",
      "500 lr:0.005950 acc:0.664600\n",
      "1000 lr:0.005950 acc:0.795800\n",
      "1500 lr:0.005950 acc:0.837800\n",
      "500 lr:0.006220 acc:0.676400\n",
      "1000 lr:0.006220 acc:0.798800\n",
      "1500 lr:0.006220 acc:0.843400\n",
      "500 lr:0.007885 acc:0.734800\n",
      "1000 lr:0.007885 acc:0.830800\n",
      "1500 lr:0.007885 acc:0.862400\n",
      "500 lr:0.010246 acc:0.791400\n",
      "1000 lr:0.010246 acc:0.855600\n",
      "1500 lr:0.010246 acc:0.876000\n",
      "500 lr:0.015968 acc:0.846000\n",
      "1000 lr:0.015968 acc:0.884600\n",
      "1500 lr:0.015968 acc:0.896200\n",
      "500 lr:0.028793 acc:0.881600\n",
      "1000 lr:0.028793 acc:0.900400\n",
      "1500 lr:0.028793 acc:0.909400\n",
      "500 lr:0.052825 acc:0.899000\n",
      "1000 lr:0.052825 acc:0.915400\n",
      "1500 lr:0.052825 acc:0.920400\n",
      "500 lr:0.056782 acc:0.901600\n",
      "1000 lr:0.056782 acc:0.916800\n",
      "1500 lr:0.056782 acc:0.921400\n",
      "500 lr:0.070771 acc:0.911000\n",
      "1000 lr:0.070771 acc:0.917400\n",
      "1500 lr:0.070771 acc:0.922600\n",
      "500 lr:0.076065 acc:0.904800\n",
      "1000 lr:0.076065 acc:0.919000\n",
      "1500 lr:0.076065 acc:0.923200\n",
      "500 lr:0.105512 acc:0.917000\n",
      "1000 lr:0.105512 acc:0.921400\n",
      "1500 lr:0.105512 acc:0.926600\n",
      "500 lr:0.121471 acc:0.916000\n",
      "1000 lr:0.121471 acc:0.920200\n",
      "1500 lr:0.121471 acc:0.926400\n",
      "500 lr:0.234885 acc:0.919800\n",
      "1000 lr:0.234885 acc:0.921400\n",
      "1500 lr:0.234885 acc:0.934800\n",
      "500 lr:0.275253 acc:0.916600\n",
      "1000 lr:0.275253 acc:0.927400\n",
      "1500 lr:0.275253 acc:0.925000\n",
      "500 lr:0.286458 acc:0.921600\n",
      "1000 lr:0.286458 acc:0.929600\n",
      "1500 lr:0.286458 acc:0.926400\n",
      "500 lr:0.309152 acc:0.906600\n",
      "1000 lr:0.309152 acc:0.928400\n",
      "1500 lr:0.309152 acc:0.930200\n",
      "500 lr:0.324550 acc:0.895400\n",
      "1000 lr:0.324550 acc:0.920400\n",
      "1500 lr:0.324550 acc:0.925800\n",
      "500 lr:0.352224 acc:0.921400\n",
      "1000 lr:0.352224 acc:0.919800\n",
      "1500 lr:0.352224 acc:0.926400\n",
      "500 lr:0.570812 acc:0.533400\n",
      "1000 lr:0.570812 acc:0.806200\n",
      "1500 lr:0.570812 acc:0.801200\n",
      "500 lr:0.613870 acc:0.511000\n",
      "1000 lr:0.613870 acc:0.642000\n",
      "1500 lr:0.613870 acc:0.551200\n"
     ]
    }
   ],
   "source": [
    "np.random.seed(27)\n",
    "result_data = np.zeros((30,43))\n",
    "random = -3*np.random.random(30)\n",
    "y = np.sort(10**random)\n",
    "x = [0.002,0.04,0.3]\n",
    "for index in range(0, len(y)):\n",
    "    lr = y[index]\n",
    "    beta_w1 = 1/(784*10)\n",
    "    beta_w2 = 1/(10*10)\n",
    "    beta_b = 1/(10)\n",
    "    train(lr,beta_w1,beta_w2,beta_b,index)"
   ]
  },
  {
   "cell_type": "code",
   "execution_count": 74,
   "metadata": {},
   "outputs": [
    {
     "name": "stdout",
     "output_type": "stream",
     "text": [
      "500 lr:0.002000 acc:0.329200\n",
      "1000 lr:0.002000 acc:0.478000\n",
      "1500 lr:0.002000 acc:0.603800\n",
      "500 lr:0.040000 acc:0.891800\n",
      "1000 lr:0.040000 acc:0.910400\n",
      "1500 lr:0.040000 acc:0.916600\n",
      "500 lr:0.300000 acc:0.909600\n",
      "1000 lr:0.300000 acc:0.923400\n",
      "1500 lr:0.300000 acc:0.926600\n"
     ]
    }
   ],
   "source": [
    "result_data1 = np.zeros((3,43))\n",
    "x = [0.002,0.04,0.3]\n",
    "for index in range(0, len(x)):\n",
    "    lr = x[index]\n",
    "    beta_w1 = 1/(784*10)\n",
    "    beta_w2 = 1/(10*10)\n",
    "    beta_b = 1/(10)\n",
    "    train(lr,beta_w1,beta_w2,beta_b,index)"
   ]
  },
  {
   "cell_type": "markdown",
   "metadata": {},
   "source": [
    "## draw the plot"
   ]
  },
  {
   "cell_type": "code",
   "execution_count": 55,
   "metadata": {
    "collapsed": true
   },
   "outputs": [],
   "source": [
    "result1 = result_data"
   ]
  },
  {
   "cell_type": "code",
   "execution_count": 56,
   "metadata": {},
   "outputs": [],
   "source": [
    "import numpy as np\n",
    "import matplotlib.pyplot as plt\n",
    "\n",
    "Xmax = np.zeros(43)\n",
    "Xmin = np.zeros(43)\n",
    "X_lrmax = np.zeros(43)\n",
    "X_lrmin = np.zeros(43)\n",
    "X_lrmedian = np.zeros(43)\n",
    "Xlr = y\n",
    "Xsum = np.zeros(30)\n",
    "\n",
    "# find max and min each test step to get area of accuracy distribution\n",
    "for n in range(0,43):\n",
    "    Xmax[n] = np.max(result_data[:,n])\n",
    "    Xmin[n] = np.min(result_data[:,n])\n",
    "\n",
    "# calculate area-under-curve and save it to Xsum\n",
    "for m in range(0,30):   \n",
    "    Xsum[m]  = np.sum(result_data[m,:])\n",
    "\n",
    "# find index of learning rate refer to max and min auc \n",
    "lr_min_i = np.argwhere(Xsum == np.min(Xsum))\n",
    "lr_max_i = np.argwhere(Xsum == np.max(Xsum))\n",
    "\n",
    "lr_min = Xlr[lr_min_i[0,0]]\n",
    "lr_max = Xlr[lr_max_i[0,0]]\n",
    "\n",
    "\n",
    "for n in range(0,43):\n",
    "    X_lrmin[n] = result_data[lr_min_i[0,0],n]\n",
    "    X_lrmax[n] = result_data[lr_max_i[0,0],n]"
   ]
  },
  {
   "cell_type": "code",
   "execution_count": 57,
   "metadata": {},
   "outputs": [
    {
     "data": {
      "text/plain": [
       "33.070599898695946"
      ]
     },
     "execution_count": 57,
     "metadata": {},
     "output_type": "execute_result"
    }
   ],
   "source": [
    "Xsum1=Xsum\n",
    "Xsum1 = np.sort(Xsum1)\n",
    "Xsum1[15]"
   ]
  },
  {
   "cell_type": "code",
   "execution_count": 58,
   "metadata": {},
   "outputs": [
    {
     "data": {
      "text/plain": [
       "array([ 13.17179999,  18.73699993,  19.29600005,  20.52520002,\n",
       "        20.76159996,  21.54080005,  24.80140014,  26.18140003,\n",
       "        26.94360012,  29.02640018,  29.45580019,  29.78180011,\n",
       "        31.45219998,  33.0705999 ,  34.95000005,  36.71100004,\n",
       "        37.87000014,  37.88600005,  38.12420015,  38.11780003,\n",
       "        38.3707999 ,  38.49159996,  38.71620001,  38.8108    ,\n",
       "        38.75699985,  38.68599974,  38.44899996,  38.59759988,\n",
       "        29.64639987,  22.00099976])"
      ]
     },
     "execution_count": 58,
     "metadata": {},
     "output_type": "execute_result"
    }
   ],
   "source": [
    "Xsum"
   ]
  },
  {
   "cell_type": "code",
   "execution_count": 64,
   "metadata": {},
   "outputs": [],
   "source": [
    "X1 = result_data[22,:]"
   ]
  },
  {
   "cell_type": "code",
   "execution_count": 66,
   "metadata": {},
   "outputs": [
    {
     "name": "stderr",
     "output_type": "stream",
     "text": [
      "D:\\anaconda\\lib\\site-packages\\matplotlib\\__init__.py:1405: UserWarning: \n",
      "This call to matplotlib.use() has no effect because the backend has already\n",
      "been chosen; matplotlib.use() must be called *before* pylab, matplotlib.pyplot,\n",
      "or matplotlib.backends is imported for the first time.\n",
      "\n",
      "  warnings.warn(_use_error_msg)\n"
     ]
    },
    {
     "data": {
      "image/png": "[encoded data removed]",
      "text/plain": [
       "<matplotlib.figure.Figure at 0x1b0e1b19048>"
      ]
     },
     "metadata": {},
     "output_type": "display_data"
    }
   ],
   "source": [
    "import matplotlib \n",
    "from matplotlib.ticker import  MultipleLocator\n",
    "matplotlib.use('Agg')\n",
    "x_index=np.arange(0,4,4.0/43)\n",
    "X_lrmedian = result_data[13,:]\n",
    "fig = plt.figure()\n",
    "plt.title(\"Adagrad\")\n",
    "plt.xlabel('Epoch')\n",
    "plt.ylabel('Test Accu')\n",
    "plt.axis([0,4,0.0,1.0]) \n",
    "plt.plot(x_index,X_lrmedian,color = 'red',label='1e-2')\n",
    "plt.plot(x_index,X_lrmin,'r--',label='1e-3')\n",
    "plt.plot(x_index,X_lrmax,'r-.',label='2e-1')\n",
    "plt.fill_between(x_index,Xmin,Xmax,color = 'red',alpha = '0.1')\n",
    "plt.legend(loc='lower right',framealpha = 0.5)\n",
    "plt.savefig(\"adagrad new.png\") \n",
    "plt.show()\n"
   ]
  },
  {
   "cell_type": "code",
   "execution_count": 68,
   "metadata": {},
   "outputs": [],
   "source": [
    "import pandas as pd\n",
    "import numpy as np\n",
    "\n",
    "adagrad_result_csv = pd.DataFrame(np.zeros((30,43)))\n",
    "adagrad_result_csv.iloc[:,:] = result_data\n",
    "adagrad_result_csv.to_csv('adagrad',index=False)\n",
    "training_csv = pd.read_csv('adagrad',index_col=0)\n",
    "training_csv\n",
    "\n",
    "np.save('adagrad-np.npy',result_data)"
   ]
  },
  {
   "cell_type": "code",
   "execution_count": 76,
   "metadata": {},
   "outputs": [
    {
     "name": "stderr",
     "output_type": "stream",
     "text": [
      "D:\\anaconda\\lib\\site-packages\\matplotlib\\__init__.py:1405: UserWarning: \n",
      "This call to matplotlib.use() has no effect because the backend has already\n",
      "been chosen; matplotlib.use() must be called *before* pylab, matplotlib.pyplot,\n",
      "or matplotlib.backends is imported for the first time.\n",
      "\n",
      "  warnings.warn(_use_error_msg)\n"
     ]
    },
    {
     "data": {
      "image/png": "[encoded data removed]",
      "text/plain": [
       "<matplotlib.figure.Figure at 0x1b0d43f1390>"
      ]
     },
     "metadata": {},
     "output_type": "display_data"
    }
   ],
   "source": [
    "import matplotlib \n",
    "from matplotlib.ticker import  MultipleLocator\n",
    "matplotlib.use('Agg')\n",
    "x_index=np.arange(0,4,4.0/43)\n",
    "X1 = result_data1[0,:]\n",
    "X2 = result_data1[1,:]\n",
    "X3 = result_data1[2,:]\n",
    "fig = plt.figure()\n",
    "plt.title(\"Adagrad\")\n",
    "plt.xlabel('Epoch')\n",
    "plt.ylabel('Test Accu')\n",
    "plt.axis([0,4,0.0,1.0]) \n",
    "plt.plot(x_index,X1,'r--',label='2e-3')\n",
    "plt.plot(x_index,X2,color = 'red',label='4e-2')\n",
    "plt.plot(x_index,X3,'r-.',label='3e-1')\n",
    "plt.fill_between(x_index,X1,X3,color = 'red',alpha = '0.1')\n",
    "plt.legend(loc='lower right',framealpha = 0.5)\n",
    "plt.savefig(\"adagrad para.png\") \n",
    "plt.show()"
   ]
  },
  {
   "cell_type": "code",
   "execution_count": 62,
   "metadata": {},
   "outputs": [
    {
     "data": {
      "text/plain": [
       "array([ 0.1804    ,  0.83719999,  0.875     ,  0.88980001,  0.8642    ,\n",
       "        0.9034    ,  0.91640002,  0.91600001,  0.91820002,  0.90740001,\n",
       "        0.91979998,  0.9228    ,  0.91659999,  0.91619998,  0.921     ,\n",
       "        0.91839999,  0.92379999,  0.92140001,  0.92720002,  0.92720002,\n",
       "        0.92659998,  0.9278    ,  0.92640001,  0.92299998,  0.92739999,\n",
       "        0.92879999,  0.93220001,  0.92940003,  0.92799997,  0.92940003,\n",
       "        0.92860001,  0.93099999,  0.93019998,  0.93419999,  0.93040001,\n",
       "        0.93300003,  0.93519998,  0.92500001,  0.93099999,  0.93099999,\n",
       "        0.93419999,  0.93379998,  0.93180001])"
      ]
     },
     "execution_count": 62,
     "metadata": {},
     "output_type": "execute_result"
    }
   ],
   "source": [
    "result_data[23,:]"
   ]
  }
 ],
 "metadata": {
  "kernelspec": {
   "display_name": "Python 3",
   "language": "python",
   "name": "python3"
  },
  "language_info": {
   "codemirror_mode": {
    "name": "ipython",
    "version": 3
   },
   "file_extension": ".py",
   "mimetype": "text/x-python",
   "name": "python",
   "nbconvert_exporter": "python",
   "pygments_lexer": "ipython3",
   "version": "3.6.1"
  }
 },
 "nbformat": 4,
 "nbformat_minor": 2
}
